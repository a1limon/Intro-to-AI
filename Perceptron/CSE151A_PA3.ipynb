{
 "cells": [
  {
   "cell_type": "code",
   "execution_count": 1,
   "id": "organized-prison",
   "metadata": {},
   "outputs": [],
   "source": [
    "import numpy as np\n",
    "import pandas as pd\n",
    "import math\n",
    "from scipy.special import expit\n",
    "from collections import defaultdict"
   ]
  },
  {
   "cell_type": "code",
   "execution_count": 2,
   "id": "economic-insurance",
   "metadata": {},
   "outputs": [],
   "source": [
    "train = np.loadtxt('data/pa3train.txt')\n",
    "test = np.loadtxt('data/pa3test.txt')\n",
    "pa3dict= np.loadtxt('data/pa3dictionary.txt', dtype = 'object')"
   ]
  },
  {
   "cell_type": "code",
   "execution_count": 3,
   "id": "amazing-hopkins",
   "metadata": {},
   "outputs": [],
   "source": [
    "xtrain = np.array([d for d in train if d[-1] ==1 or d[-1] ==2])\n",
    "xtest = np.array([d for d in test if d[-1] ==1 or d[-1] ==2])"
   ]
  },
  {
   "cell_type": "markdown",
   "id": "victorian-jewel",
   "metadata": {},
   "source": [
    "#### relabel 1 as -1 and 2 as 1"
   ]
  },
  {
   "cell_type": "code",
   "execution_count": 4,
   "id": "hollywood-light",
   "metadata": {},
   "outputs": [],
   "source": [
    "Xtrain = xtrain[:,:-1]\n",
    "ytrain = np.array([-1 if d[-1] == 1 else 1 for d in xtrain])\n",
    "\n",
    "Xtest = xtest[:,:-1]\n",
    "ytest = np.array([-1 if d[-1] == 1 else 1 for d in xtest])\n"
   ]
  },
  {
   "cell_type": "markdown",
   "id": "established-blind",
   "metadata": {},
   "source": [
    "#### 1. First, we will learn a linear classifier with perceptron that can predict if a post belongs to class 1 or class 2. For this purpose, your training data is the subset of pa3train.txt that has label 1 or 2, and your test data is the subset of pa3test.txt that has label 1 or 2. Assume that data is linearly separable by a hyperplane through the origin. Run two, three and four passes of perceptron on the training dataset to find classifiers that separate the two classes. What are the training errors and the test errors of perceptron after two, three and four passes? [Hint: If your code is correct, the training error after a single pass of perceptron would be about 0.04.]"
   ]
  },
  {
   "cell_type": "code",
   "execution_count": 5,
   "id": "dramatic-trace",
   "metadata": {},
   "outputs": [],
   "source": [
    "def perceptron(x, y, passes):\n",
    "    pred = [0]*len(y)\n",
    "    w_t = np.zeros((x.shape[1],))\n",
    "    for _ in range(passes):\n",
    "        for i,xi in enumerate(Xtrain):\n",
    "            if ytrain[i]*np.dot(w_t,xi) <= 0:\n",
    "                w_t = w_t + ytrain[i]*xi\n",
    "#             else:\n",
    "#                 w_t = w_t\n",
    "                \n",
    "    for i,xi in enumerate(x):\n",
    "        if np.sign(np.dot(w_t,xi)) < 0:\n",
    "            pred[i] = -1\n",
    "        else:\n",
    "            pred[i] = 1\n",
    "                \n",
    "    return pred,w_t"
   ]
  },
  {
   "cell_type": "code",
   "execution_count": 6,
   "id": "fitted-bryan",
   "metadata": {},
   "outputs": [
    {
     "data": {
      "text/html": [
       "<div>\n",
       "<style scoped>\n",
       "    .dataframe tbody tr th:only-of-type {\n",
       "        vertical-align: middle;\n",
       "    }\n",
       "\n",
       "    .dataframe tbody tr th {\n",
       "        vertical-align: top;\n",
       "    }\n",
       "\n",
       "    .dataframe thead th {\n",
       "        text-align: right;\n",
       "    }\n",
       "</style>\n",
       "<table border=\"1\" class=\"dataframe\">\n",
       "  <thead>\n",
       "    <tr style=\"text-align: right;\">\n",
       "      <th></th>\n",
       "      <th>Passes</th>\n",
       "      <th>training error</th>\n",
       "      <th>test error</th>\n",
       "    </tr>\n",
       "  </thead>\n",
       "  <tbody>\n",
       "    <tr>\n",
       "      <th>0</th>\n",
       "      <td>1</td>\n",
       "      <td>0.041284</td>\n",
       "      <td>0.053050</td>\n",
       "    </tr>\n",
       "    <tr>\n",
       "      <th>1</th>\n",
       "      <td>2</td>\n",
       "      <td>0.040367</td>\n",
       "      <td>0.058355</td>\n",
       "    </tr>\n",
       "    <tr>\n",
       "      <th>2</th>\n",
       "      <td>3</td>\n",
       "      <td>0.021101</td>\n",
       "      <td>0.045093</td>\n",
       "    </tr>\n",
       "    <tr>\n",
       "      <th>3</th>\n",
       "      <td>4</td>\n",
       "      <td>0.018349</td>\n",
       "      <td>0.047745</td>\n",
       "    </tr>\n",
       "  </tbody>\n",
       "</table>\n",
       "</div>"
      ],
      "text/plain": [
       "   Passes  training error  test error\n",
       "0       1        0.041284    0.053050\n",
       "1       2        0.040367    0.058355\n",
       "2       3        0.021101    0.045093\n",
       "3       4        0.018349    0.047745"
      ]
     },
     "execution_count": 6,
     "metadata": {},
     "output_type": "execute_result"
    }
   ],
   "source": [
    "#model pipeline\n",
    "passes = [1,2,3,4]\n",
    "percep_train_err = []\n",
    "percep_test_err = []\n",
    "for p in passes:\n",
    "    #train error\n",
    "    train_correct = perceptron(Xtrain,ytrain,p)[0] == ytrain\n",
    "    train_error = 1 - (sum(train_correct) / len(train_correct))\n",
    "    percep_train_err.append(train_error)\n",
    "    #validation error\n",
    "    test_correct = perceptron(Xtest,ytest,p)[0] == ytest\n",
    "    test_error = 1 - (sum(test_correct) / len(test_correct))\n",
    "    percep_test_err.append(test_error)\n",
    "    \n",
    "    \n",
    "pd.DataFrame({'Passes': passes, 'training error':percep_train_err, 'test error': percep_test_err})"
   ]
  },
  {
   "cell_type": "markdown",
   "id": "verified-vision",
   "metadata": {},
   "source": [
    "#### We will again learn a linear classifier that predicts if a post belongs to class 1 or class 2, but this time it will be with logistic regression. For this purpose, your training data is the subset of pa3train.txt that has label 1 or 2, and your test data is the subset of pa3test.txt that has label 1 or 2. Again, the classifier is a hyperplane through the origin. Starting with the initial point w0 set to the all zeros vector, run 10, 50 and 100 iterations of gradient descent on the following logistic regression loss function with learning rate η = 0.001: .... What are the training and test errors of logistic regression after 10, 50 and 100 iterations of gradient descent? [Hint: If your code is correct, the training error after two gradient descent steps would be about 0.497.]"
   ]
  },
  {
   "cell_type": "code",
   "execution_count": 7,
   "id": "involved-candidate",
   "metadata": {},
   "outputs": [],
   "source": [
    "def logisticRegression(x, y, iterations):\n",
    "    learn_rate = .001\n",
    "    pred = [0]*len(y)\n",
    "    w_t = np.zeros((x.shape[1],))\n",
    "    for _ in range(iterations):\n",
    "        summ = 0\n",
    "        for i, xi in enumerate(Xtrain):\n",
    "            yi = ytrain[i]\n",
    "            numer = yi*xi\n",
    "            denom = 1.0 + np.exp(yi*np.dot(w_t,xi))\n",
    "            summ += numer/denom\n",
    "        w_t = w_t+(learn_rate*summ)\n",
    "    \n",
    "    for i, xi in enumerate(x):\n",
    "        if expit(np.dot(w_t,xi)) < 0.5:\n",
    "            pred[i] = -1\n",
    "        else:\n",
    "            pred[i] = 1\n",
    "    \n",
    "    return pred,w_t"
   ]
  },
  {
   "cell_type": "code",
   "execution_count": 8,
   "id": "killing-seminar",
   "metadata": {},
   "outputs": [
    {
     "name": "stderr",
     "output_type": "stream",
     "text": [
      "<ipython-input-7-c5c90f06bddc>:10: RuntimeWarning: overflow encountered in exp\n",
      "  denom = 1.0 + np.exp(yi*np.dot(w_t,xi))\n"
     ]
    },
    {
     "data": {
      "text/html": [
       "<div>\n",
       "<style scoped>\n",
       "    .dataframe tbody tr th:only-of-type {\n",
       "        vertical-align: middle;\n",
       "    }\n",
       "\n",
       "    .dataframe tbody tr th {\n",
       "        vertical-align: top;\n",
       "    }\n",
       "\n",
       "    .dataframe thead th {\n",
       "        text-align: right;\n",
       "    }\n",
       "</style>\n",
       "<table border=\"1\" class=\"dataframe\">\n",
       "  <thead>\n",
       "    <tr style=\"text-align: right;\">\n",
       "      <th></th>\n",
       "      <th>Passes</th>\n",
       "      <th>training error</th>\n",
       "      <th>test error</th>\n",
       "    </tr>\n",
       "  </thead>\n",
       "  <tbody>\n",
       "    <tr>\n",
       "      <th>0</th>\n",
       "      <td>2</td>\n",
       "      <td>0.497248</td>\n",
       "      <td>0.490716</td>\n",
       "    </tr>\n",
       "    <tr>\n",
       "      <th>1</th>\n",
       "      <td>10</td>\n",
       "      <td>0.297248</td>\n",
       "      <td>0.297082</td>\n",
       "    </tr>\n",
       "    <tr>\n",
       "      <th>2</th>\n",
       "      <td>50</td>\n",
       "      <td>0.039450</td>\n",
       "      <td>0.061008</td>\n",
       "    </tr>\n",
       "    <tr>\n",
       "      <th>3</th>\n",
       "      <td>100</td>\n",
       "      <td>0.020183</td>\n",
       "      <td>0.045093</td>\n",
       "    </tr>\n",
       "  </tbody>\n",
       "</table>\n",
       "</div>"
      ],
      "text/plain": [
       "   Passes  training error  test error\n",
       "0       2        0.497248    0.490716\n",
       "1      10        0.297248    0.297082\n",
       "2      50        0.039450    0.061008\n",
       "3     100        0.020183    0.045093"
      ]
     },
     "execution_count": 8,
     "metadata": {},
     "output_type": "execute_result"
    }
   ],
   "source": [
    "#model pipeline\n",
    "passes = [2,10,50,100]\n",
    "lr_train_err = []\n",
    "lr_test_err = []\n",
    "for p in passes:\n",
    "    #train error\n",
    "    train_correct = logisticRegression(Xtrain,ytrain,p)[0] == ytrain\n",
    "    train_error = 1 - (sum(train_correct) / len(train_correct))\n",
    "    lr_train_err.append(train_error)\n",
    "    #validation error\n",
    "    test_correct = logisticRegression(Xtest,ytest,p)[0] == ytest\n",
    "    test_error = 1 - (sum(test_correct) / len(test_correct))\n",
    "    lr_test_err.append(test_error)\n",
    "    \n",
    "    \n",
    "pd.DataFrame({'Passes': passes, 'training error':lr_train_err, 'test error': lr_test_err})"
   ]
  },
  {
   "cell_type": "markdown",
   "id": "dated-ferry",
   "metadata": {},
   "source": [
    "#### 3. Consider the perceptron classifier w that you built by running three passes on the data. We will now try to interpret this classifier. Find the three coordinates in w with the highest and lowest values. What are the words (from pa3dictionary.txt) that correspond to these coordinates? The three highest coordinates are those words whose presence indicates the positive class most strongly, and the three lowest coordinates are those words whose presence indicates the negative class most strongly."
   ]
  },
  {
   "cell_type": "code",
   "execution_count": 9,
   "id": "stunning-recruitment",
   "metadata": {},
   "outputs": [],
   "source": [
    "pred,w_t = perceptron(Xtest,ytest,3)"
   ]
  },
  {
   "cell_type": "code",
   "execution_count": 10,
   "id": "contained-ceiling",
   "metadata": {},
   "outputs": [
    {
     "name": "stdout",
     "output_type": "stream",
     "text": [
      "coordinates with lowest 3 values:  ['file' 'program' 'line']\n",
      "coordinates with highest 3 values:  ['game' 'team' 'he']\n"
     ]
    }
   ],
   "source": [
    "min3 =  pa3dict[np.argsort(w_t)][:3]\n",
    "print(\"coordinates with lowest 3 values: \",min3)\n",
    "max3 = pa3dict[np.argsort(w_t)][-3:]\n",
    "print(\"coordinates with highest 3 values: \",max3)\n"
   ]
  },
  {
   "cell_type": "markdown",
   "id": "naval-delaware",
   "metadata": {},
   "source": [
    "#### 4. Repeat Part (3) of the question on the logistic regression classifier that you got after 50 iterations of gradient descent in part (2)."
   ]
  },
  {
   "cell_type": "code",
   "execution_count": 11,
   "id": "accessory-serbia",
   "metadata": {},
   "outputs": [
    {
     "name": "stderr",
     "output_type": "stream",
     "text": [
      "<ipython-input-7-c5c90f06bddc>:10: RuntimeWarning: overflow encountered in exp\n",
      "  denom = 1.0 + np.exp(yi*np.dot(w_t,xi))\n"
     ]
    }
   ],
   "source": [
    "pred,w_t = logisticRegression(Xtrain,ytrain,50)"
   ]
  },
  {
   "cell_type": "code",
   "execution_count": 12,
   "id": "round-shell",
   "metadata": {},
   "outputs": [
    {
     "name": "stdout",
     "output_type": "stream",
     "text": [
      "coordinates with lowest 3 values:  ['window' 'file' 'use']\n",
      "coordinates with highest 3 values:  ['they' 'game' 'he']\n"
     ]
    }
   ],
   "source": [
    "min3 =  pa3dict[np.argsort(w_t)][:3]\n",
    "print(\"coordinates with lowest 3 values: \",min3)\n",
    "max3 = pa3dict[np.argsort(w_t)][-3:]\n",
    "print(\"coordinates with highest 3 values: \",max3)\n"
   ]
  },
  {
   "cell_type": "markdown",
   "id": "existing-matthew",
   "metadata": {},
   "source": [
    "#### 5. For the final part of the question, we will build a one-vs-all multi-class classifier with a Don’t Know option. For each class i = 1, . . . , 6, run a single pass of the perceptron algorithm on the training dataset to compute a linear classifier separating the training data points in class i from the training data points not in class i. Call this classifier Ci . We will now use these classifiers to construct a one-vs-all multiclass classifier. \n",
    "#### Given a test example x, the one-vs-all classifier predicts as follows. If Ci(x) = i for exactly one i = 1, . . . , 6, then predict label i. If Ci(x) = i for more than one i in 1, . . . , 6, or if Ci(x) = i for no i, then report Don’t Know. \n",
    "#### We will build a confusion matrix, that indicates how well a multiclass classifier can distinguish between classes. Recall from lecture that a confusion matrix is a 6×6 matrix, where each row is labelled 1, . . . , 6 and each column is labelled 1, . . . , 6. The entry of the matrix at row i and column j is Cij/Nj where Cij is the number of test examples that have label j but are classified as label i by the classifier, and Nj is the number of test examples that have label j. Since the one-vs-all classifier can also predict Don’t Know, the confusion matrix will now be an 7 × 6 matrix – that is, it will have an extra row corresponding to the Don’t Know predictions. \n",
    "#### Write down the confusion matrix for the one-vs-all classifier on the training data in pa3train.txt based on the test data in pa3test.txt. Looking at the confusion matrix, what are the i and j in the following statements?\n",
    "- (a) The perceptron classifier has the highest accuracy for examples that belong to class i.\n",
    "- (b) The perceptron classifier has the least accuracy for examples that belong to class i.\n",
    "- (c) The perceptron classifier most often mistakenly classifies an example in class j as belonging to class i, for i, j ∈ {1, 2, 3, 4, 5, 6} (i.e., excluding Don’t Know)."
   ]
  },
  {
   "cell_type": "code",
   "execution_count": 13,
   "id": "virtual-potato",
   "metadata": {},
   "outputs": [],
   "source": [
    "classes = np.arange(1,7)\n",
    "Ci_weights = []\n",
    "#get weight vectors for each class\n",
    "for i in classes:\n",
    "    Xtrain = train[:,:-1]\n",
    "    ytrain = np.array([1 if d[-1] == i else -1 for d in train])\n",
    "    Ci_weights.append(perceptron(Xtrain,ytrain,1)[1])"
   ]
  },
  {
   "cell_type": "code",
   "execution_count": 14,
   "id": "entitled-natural",
   "metadata": {},
   "outputs": [],
   "source": [
    "Ci = defaultdict(int)\n",
    "#for test points\n",
    "for xi in test:\n",
    "    xi_ = xi[:-1]\n",
    "    yi = xi[-1]\n",
    "    preds = []\n",
    "    #generate predictions for each i'th classifier on a test point\n",
    "    for ci_wt in Ci_weights:\n",
    "        if np.sign(np.dot(ci_wt,xi_)) < 0:\n",
    "            preds.append(-1)\n",
    "        else:\n",
    "            preds.append(1)\n",
    "    #if classifier predicts i for exactly one i, predict i\n",
    "    if preds.count(1) == 1:\n",
    "        preds= preds.index(1) + 1\n",
    "    else:\n",
    "        preds = 7 #otherswise predict don't know\n",
    "    Ci[(preds,int(yi))] +=1\n"
   ]
  },
  {
   "cell_type": "code",
   "execution_count": 15,
   "id": "sacred-glory",
   "metadata": {},
   "outputs": [],
   "source": [
    "Ni = defaultdict(int)\n",
    "#gets count of each label\n",
    "for i in test[:,-1]:\n",
    "    Ni[i] +=1"
   ]
  },
  {
   "cell_type": "code",
   "execution_count": 16,
   "id": "broadband-origin",
   "metadata": {},
   "outputs": [
    {
     "data": {
      "text/html": [
       "<div>\n",
       "<style scoped>\n",
       "    .dataframe tbody tr th:only-of-type {\n",
       "        vertical-align: middle;\n",
       "    }\n",
       "\n",
       "    .dataframe tbody tr th {\n",
       "        vertical-align: top;\n",
       "    }\n",
       "\n",
       "    .dataframe thead th {\n",
       "        text-align: right;\n",
       "    }\n",
       "</style>\n",
       "<table border=\"1\" class=\"dataframe\">\n",
       "  <thead>\n",
       "    <tr style=\"text-align: right;\">\n",
       "      <th></th>\n",
       "      <th>1</th>\n",
       "      <th>2</th>\n",
       "      <th>3</th>\n",
       "      <th>4</th>\n",
       "      <th>5</th>\n",
       "      <th>6</th>\n",
       "    </tr>\n",
       "  </thead>\n",
       "  <tbody>\n",
       "    <tr>\n",
       "      <th>1</th>\n",
       "      <td>0.718919</td>\n",
       "      <td>0.010417</td>\n",
       "      <td>0.034286</td>\n",
       "      <td>0.021739</td>\n",
       "      <td>0.000000</td>\n",
       "      <td>0.000000</td>\n",
       "    </tr>\n",
       "    <tr>\n",
       "      <th>2</th>\n",
       "      <td>0.010811</td>\n",
       "      <td>0.656250</td>\n",
       "      <td>0.034286</td>\n",
       "      <td>0.027174</td>\n",
       "      <td>0.012821</td>\n",
       "      <td>0.018519</td>\n",
       "    </tr>\n",
       "    <tr>\n",
       "      <th>3</th>\n",
       "      <td>0.000000</td>\n",
       "      <td>0.015625</td>\n",
       "      <td>0.371429</td>\n",
       "      <td>0.000000</td>\n",
       "      <td>0.000000</td>\n",
       "      <td>0.027778</td>\n",
       "    </tr>\n",
       "    <tr>\n",
       "      <th>4</th>\n",
       "      <td>0.016216</td>\n",
       "      <td>0.005208</td>\n",
       "      <td>0.000000</td>\n",
       "      <td>0.684783</td>\n",
       "      <td>0.000000</td>\n",
       "      <td>0.000000</td>\n",
       "    </tr>\n",
       "    <tr>\n",
       "      <th>5</th>\n",
       "      <td>0.016216</td>\n",
       "      <td>0.031250</td>\n",
       "      <td>0.074286</td>\n",
       "      <td>0.005435</td>\n",
       "      <td>0.801282</td>\n",
       "      <td>0.120370</td>\n",
       "    </tr>\n",
       "    <tr>\n",
       "      <th>6</th>\n",
       "      <td>0.005405</td>\n",
       "      <td>0.010417</td>\n",
       "      <td>0.034286</td>\n",
       "      <td>0.000000</td>\n",
       "      <td>0.070513</td>\n",
       "      <td>0.500000</td>\n",
       "    </tr>\n",
       "    <tr>\n",
       "      <th>Don't Know</th>\n",
       "      <td>0.232432</td>\n",
       "      <td>0.270833</td>\n",
       "      <td>0.451429</td>\n",
       "      <td>0.260870</td>\n",
       "      <td>0.115385</td>\n",
       "      <td>0.333333</td>\n",
       "    </tr>\n",
       "  </tbody>\n",
       "</table>\n",
       "</div>"
      ],
      "text/plain": [
       "                   1         2         3         4         5         6\n",
       "1           0.718919  0.010417  0.034286  0.021739  0.000000  0.000000\n",
       "2           0.010811  0.656250  0.034286  0.027174  0.012821  0.018519\n",
       "3           0.000000  0.015625  0.371429  0.000000  0.000000  0.027778\n",
       "4           0.016216  0.005208  0.000000  0.684783  0.000000  0.000000\n",
       "5           0.016216  0.031250  0.074286  0.005435  0.801282  0.120370\n",
       "6           0.005405  0.010417  0.034286  0.000000  0.070513  0.500000\n",
       "Don't Know  0.232432  0.270833  0.451429  0.260870  0.115385  0.333333"
      ]
     },
     "execution_count": 16,
     "metadata": {},
     "output_type": "execute_result"
    }
   ],
   "source": [
    "confusion_matrix = np.zeros((7,6))\n",
    "for i in range(confusion_matrix.shape[0]):\n",
    "    for j in range(confusion_matrix.shape[1]):\n",
    "            confusion_matrix[i][j] = Ci[(i+1,j+1)] / Ni[j+1]\n",
    "cm = pd.DataFrame(confusion_matrix)\n",
    "cm.index = [1,2,3,4,5,6,\"Don't Know\"]\n",
    "cm.columns = np.arange(1,7)\n",
    "cm         "
   ]
  },
  {
   "cell_type": "code",
   "execution_count": 17,
   "id": "changed-violence",
   "metadata": {},
   "outputs": [
    {
     "data": {
      "text/plain": [
       "1    1.0\n",
       "2    1.0\n",
       "3    1.0\n",
       "4    1.0\n",
       "5    1.0\n",
       "6    1.0\n",
       "dtype: float64"
      ]
     },
     "execution_count": 17,
     "metadata": {},
     "output_type": "execute_result"
    }
   ],
   "source": [
    "#check all column values in confusion matrix sum to 1\n",
    "cm.sum()"
   ]
  },
  {
   "cell_type": "markdown",
   "id": "integrated-problem",
   "metadata": {},
   "source": [
    "#### a) The perceptron classifier has the highest accuracy for examples that belong to  `class 5`\n",
    "#### b) The perceptron classifier has the least accuracy for examples that belong to  `class 3`\n",
    "#### c) The perceptron classifier most often mistakenly classifies an example in `class 6` as belonging to `class 5`, for i, j ∈ {1, 2, 3, 4, 5, 6} (i.e., excluding Don’t Know)."
   ]
  },
  {
   "cell_type": "code",
   "execution_count": 18,
   "id": "stone-wages",
   "metadata": {},
   "outputs": [
    {
     "data": {
      "text/plain": [
       "<AxesSubplot:>"
      ]
     },
     "execution_count": 18,
     "metadata": {},
     "output_type": "execute_result"
    },
    {
     "data": {
      "image/png": "[encoded data removed]",
      "text/plain": [
       "<Figure size 432x288 with 2 Axes>"
      ]
     },
     "metadata": {
      "needs_background": "light"
     },
     "output_type": "display_data"
    }
   ],
   "source": [
    "#visualize better\n",
    "import seaborn as sns\n",
    "sns.heatmap(confusion_matrix, annot=True)\n"
   ]
  },
  {
   "cell_type": "code",
   "execution_count": null,
   "id": "cellular-visiting",
   "metadata": {},
   "outputs": [],
   "source": []
  },
  {
   "cell_type": "code",
   "execution_count": null,
   "id": "legendary-finance",
   "metadata": {},
   "outputs": [],
   "source": []
  }
 ],
 "metadata": {
  "kernelspec": {
   "display_name": "Python 3",
   "language": "python",
   "name": "python3"
  },
  "language_info": {
   "codemirror_mode": {
    "name": "ipython",
    "version": 3
   },
   "file_extension": ".py",
   "mimetype": "text/x-python",
   "name": "python",
   "nbconvert_exporter": "python",
   "pygments_lexer": "ipython3",
   "version": "3.8.2"
  }
 },
 "nbformat": 4,
 "nbformat_minor": 5
}
