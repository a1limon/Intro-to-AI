{
 "cells": [
  {
   "cell_type": "code",
   "execution_count": 1,
   "metadata": {},
   "outputs": [],
   "source": [
    "import numpy as np\n",
    "import pandas as pd"
   ]
  },
  {
   "cell_type": "code",
   "execution_count": 2,
   "metadata": {},
   "outputs": [],
   "source": [
    "train = np.loadtxt('data/pa1train.txt')\n",
    "test = np.loadtxt('data/pa1test.txt')\n",
    "valid = np.loadtxt('data/pa1validate.txt')"
   ]
  },
  {
   "cell_type": "code",
   "execution_count": 3,
   "metadata": {},
   "outputs": [],
   "source": [
    "Xtrain = train[:,:784]\n",
    "ytrain = train[:,-1]\n",
    "\n",
    "Xtest = test[:,:784]\n",
    "ytest = test[:,-1]\n",
    "\n",
    "Xvalid = valid[:,:784]\n",
    "yvalid = valid[:,-1]"
   ]
  },
  {
   "cell_type": "markdown",
   "metadata": {},
   "source": [
    "#### 1. For k = 1, 5, 9 and 15, build k-nearest neighbor classifiers from the training data. For each of these values of k, write down a table of training errors (error on the training data) and the validation errors (error on the validation data). Which of these classifiers performs the best on validation data? What is the test error of this classifier? [Hint: As a check for your code, the training error for k = 3 should be about 0.04.]"
   ]
  },
  {
   "cell_type": "code",
   "execution_count": 4,
   "metadata": {},
   "outputs": [],
   "source": [
    "def knn(k, x, y):\n",
    "    pred = [0]*len(y)\n",
    "    for i, xi in enumerate(x):\n",
    "        #compute euclidean distance\n",
    "        distances = np.linalg.norm(Xtrain - xi, ord =2, axis =1)\n",
    "        #gets indices of sorted distances\n",
    "        label = np.argsort(distances, axis = 0)\n",
    "        #gets labels of k smallest distances\n",
    "        label_pred = ytrain[label[:k]].ravel().astype(np.int)\n",
    "        #retrieves most common value found in labels\n",
    "          #bincount returns the count of each value(label)\n",
    "          #argmax returns the index of the first maximum value(count)\n",
    "        pred[i] = np.argmax(np.bincount(label_pred))\n",
    "    return pred"
   ]
  },
  {
   "cell_type": "code",
   "execution_count": 5,
   "metadata": {},
   "outputs": [],
   "source": [
    "#model pipeline\n",
    "K = [1,5,9,15]\n",
    "knn_train_err = []\n",
    "knn_valid_err = []\n",
    "for k in K:\n",
    "    #knn on training data\n",
    "    train_correct = knn(k, Xtrain,ytrain) == ytrain\n",
    "    train_error = 1 - (sum(train_correct) / len(train_correct))\n",
    "    knn_train_err.append(train_error)\n",
    "    #knn on validation data\n",
    "    valid_correct = knn(k, Xvalid,yvalid) == yvalid\n",
    "    valid_error = 1 - (sum(valid_correct) / len(valid_correct))\n",
    "    knn_valid_err.append(valid_error)"
   ]
  },
  {
   "cell_type": "code",
   "execution_count": 6,
   "metadata": {},
   "outputs": [
    {
     "data": {
      "text/html": [
       "<div>\n",
       "<style scoped>\n",
       "    .dataframe tbody tr th:only-of-type {\n",
       "        vertical-align: middle;\n",
       "    }\n",
       "\n",
       "    .dataframe tbody tr th {\n",
       "        vertical-align: top;\n",
       "    }\n",
       "\n",
       "    .dataframe thead th {\n",
       "        text-align: right;\n",
       "    }\n",
       "</style>\n",
       "<table border=\"1\" class=\"dataframe\">\n",
       "  <thead>\n",
       "    <tr style=\"text-align: right;\">\n",
       "      <th></th>\n",
       "      <th>k</th>\n",
       "      <th>training error</th>\n",
       "      <th>validation error</th>\n",
       "    </tr>\n",
       "  </thead>\n",
       "  <tbody>\n",
       "    <tr>\n",
       "      <th>0</th>\n",
       "      <td>1</td>\n",
       "      <td>0.0000</td>\n",
       "      <td>0.082</td>\n",
       "    </tr>\n",
       "    <tr>\n",
       "      <th>1</th>\n",
       "      <td>5</td>\n",
       "      <td>0.0565</td>\n",
       "      <td>0.095</td>\n",
       "    </tr>\n",
       "    <tr>\n",
       "      <th>2</th>\n",
       "      <td>9</td>\n",
       "      <td>0.0685</td>\n",
       "      <td>0.104</td>\n",
       "    </tr>\n",
       "    <tr>\n",
       "      <th>3</th>\n",
       "      <td>15</td>\n",
       "      <td>0.0925</td>\n",
       "      <td>0.108</td>\n",
       "    </tr>\n",
       "  </tbody>\n",
       "</table>\n",
       "</div>"
      ],
      "text/plain": [
       "    k  training error  validation error\n",
       "0   1          0.0000             0.082\n",
       "1   5          0.0565             0.095\n",
       "2   9          0.0685             0.104\n",
       "3  15          0.0925             0.108"
      ]
     },
     "execution_count": 6,
     "metadata": {},
     "output_type": "execute_result"
    }
   ],
   "source": [
    "pd.DataFrame({'k': K, 'training error':knn_train_err, 'validation error': knn_valid_err})"
   ]
  },
  {
   "cell_type": "code",
   "execution_count": 7,
   "metadata": {},
   "outputs": [
    {
     "name": "stdout",
     "output_type": "stream",
     "text": [
      "k = 3 training error:  0.04349999999999998\n"
     ]
    }
   ],
   "source": [
    "k3_train_correct = knn(3, Xtrain,ytrain) == ytrain\n",
    "k3_train_error = 1 - (sum(k3_train_correct) / len(k3_train_correct))\n",
    "print('k = 3 training error: ', k3_train_error)"
   ]
  },
  {
   "cell_type": "markdown",
   "metadata": {},
   "source": [
    "### k =1 gives the lowest training and validation error / (1NN) performs best on the validation data"
   ]
  },
  {
   "cell_type": "code",
   "execution_count": 8,
   "metadata": {},
   "outputs": [],
   "source": [
    "K = [1]\n",
    "knn_test_err = []\n",
    "for k in K:\n",
    "    #knn on test data\n",
    "    test_correct = knn(k, Xtest,ytest) == ytest\n",
    "    test_error = 1 - (sum(test_correct) / len(test_correct))\n",
    "    knn_test_err.append(test_error)\n",
    "    "
   ]
  },
  {
   "cell_type": "code",
   "execution_count": 9,
   "metadata": {},
   "outputs": [
    {
     "data": {
      "text/html": [
       "<div>\n",
       "<style scoped>\n",
       "    .dataframe tbody tr th:only-of-type {\n",
       "        vertical-align: middle;\n",
       "    }\n",
       "\n",
       "    .dataframe tbody tr th {\n",
       "        vertical-align: top;\n",
       "    }\n",
       "\n",
       "    .dataframe thead th {\n",
       "        text-align: right;\n",
       "    }\n",
       "</style>\n",
       "<table border=\"1\" class=\"dataframe\">\n",
       "  <thead>\n",
       "    <tr style=\"text-align: right;\">\n",
       "      <th></th>\n",
       "      <th>k</th>\n",
       "      <th>test error</th>\n",
       "    </tr>\n",
       "  </thead>\n",
       "  <tbody>\n",
       "    <tr>\n",
       "      <th>0</th>\n",
       "      <td>1</td>\n",
       "      <td>0.094</td>\n",
       "    </tr>\n",
       "  </tbody>\n",
       "</table>\n",
       "</div>"
      ],
      "text/plain": [
       "   k  test error\n",
       "0  1       0.094"
      ]
     },
     "execution_count": 9,
     "metadata": {},
     "output_type": "execute_result"
    }
   ],
   "source": [
    "pd.DataFrame({'k': K, 'test error':knn_test_err})"
   ]
  },
  {
   "cell_type": "markdown",
   "metadata": {},
   "source": [
    "### observe the test error above, the test error of the 1NN classifier also performs the best, followed by the 5NN classifier"
   ]
  },
  {
   "cell_type": "markdown",
   "metadata": {},
   "source": [
    "#### 2. In the first few lectures, we talked about preprocessing data with projections. In this part of the assignment, we will look at how using a projection as a pre-processing step affects the accuracy and running-time of nearest neighbor classification. Download the file projection.txt from the class website. This file represents a projection matrix P with 784 rows and 20 columns. Each column is a 784-dimensional unit vector, and the columns are orthogonal to each other.\n",
    "\n",
    "#### Project the training, validation and test data onto the column space of this matrix, and repeat part (1) of the problem. For k = 1, 5, 9, 15 write down a table of the training and validation errors, as well as the test error of the classifier which performs best on the validation data. [Hint: As a check for your code, the training error for k = 3 after projection should be about 0.16.] How is the classification accuracy affected by projection? How does the running time of your program change when you run it on projected data?"
   ]
  },
  {
   "cell_type": "code",
   "execution_count": 10,
   "metadata": {},
   "outputs": [],
   "source": [
    "proj_matrix = np.loadtxt('data/projection.txt')"
   ]
  },
  {
   "cell_type": "code",
   "execution_count": 11,
   "metadata": {},
   "outputs": [],
   "source": [
    "#Xtrain shape = 2000 x 784   784 x 20 proj_matrix.shape"
   ]
  },
  {
   "cell_type": "code",
   "execution_count": 12,
   "metadata": {},
   "outputs": [],
   "source": [
    "#X_train_proj = np.matmul(Xtrain.dot(proj_matrix),proj_matrix.T) / (np.linalg.norm(proj_matrix)**2)"
   ]
  },
  {
   "cell_type": "code",
   "execution_count": 13,
   "metadata": {},
   "outputs": [],
   "source": [
    "# def knn_2(k, x, y):\n",
    "#     pred = [0]*len(y)\n",
    "#     X_proj_Tr = np.matmul(Xtrain.dot(proj_matrix),proj_matrix.T) / (np.linalg.norm(proj_matrix)**2)\n",
    "#     X_proj = np.matmul(x.dot(proj_matrix),proj_matrix.T) / (np.linalg.norm(proj_matrix)**2)\n",
    "#     for i, xi in enumerate(X_proj):  \n",
    "#         #compute euclidean distance\n",
    "#         distances = np.linalg.norm(X_proj_Tr - xi, ord =2, axis =1)\n",
    "#         #gets indices of sorted distances\n",
    "#         label = np.argsort(distances)\n",
    "#         #gets labels of k smallest distances\n",
    "#         label_pred = ytrain[label[:k]].ravel().astype(np.int)\n",
    "#         #retrieves most common value found in labels\n",
    "#           #bincount returns the count of each value(label)\n",
    "#           #argmax returns the index of the first maximum value(count)\n",
    "#         pred[i] = np.argmax(np.bincount(label_pred))\n",
    "#     return pred"
   ]
  },
  {
   "cell_type": "code",
   "execution_count": 14,
   "metadata": {},
   "outputs": [],
   "source": [
    "# #model pipeline\n",
    "# K = [1,5,9,15]\n",
    "# knn_train_err = []\n",
    "# knn_valid_err = []\n",
    "# for k in K:\n",
    "#     #knn on training data\n",
    "#     train_correct = knn_2(k, Xtrain,ytrain) == ytrain\n",
    "#     train_error = 1 - (sum(train_correct) / len(train_correct))\n",
    "#     knn_train_err.append(train_error)\n",
    "#     #knn on validation data\n",
    "#     valid_correct = knn_2(k, Xvalid,yvalid) == yvalid\n",
    "#     valid_error = 1 - (sum(valid_correct) / len(valid_correct))\n",
    "#     knn_valid_err.append(valid_error)\n",
    "    "
   ]
  },
  {
   "cell_type": "code",
   "execution_count": 15,
   "metadata": {},
   "outputs": [],
   "source": [
    "def knn_3(k, x, y):\n",
    "    pred = [0]*len(y)\n",
    "    X_proj_Tr = np.matmul(Xtrain,proj_matrix)\n",
    "    X_proj = np.matmul(x,proj_matrix) \n",
    "    for i, xi in enumerate(X_proj):  \n",
    "        #compute euclidean distance\n",
    "        distances = np.linalg.norm(X_proj_Tr - xi, ord =2, axis =1)\n",
    "        #gets indices of sorted distances\n",
    "        label = np.argsort(distances)\n",
    "        #gets labels of k smallest distances\n",
    "        label_pred = ytrain[label[:k]].ravel().astype(np.int)\n",
    "        #retrieves most common value found in labels\n",
    "          #bincount returns the count of each value(label)\n",
    "          #argmax returns the index of the first maximum value(count)\n",
    "        pred[i] = np.argmax(np.bincount(label_pred))\n",
    "    return pred"
   ]
  },
  {
   "cell_type": "code",
   "execution_count": 16,
   "metadata": {},
   "outputs": [],
   "source": [
    "#model pipeline\n",
    "K = [1,5,9,15]\n",
    "knn_train_err = []\n",
    "knn_valid_err = []\n",
    "for k in K:\n",
    "    #knn on training data\n",
    "    train_correct = knn_3(k, Xtrain,ytrain) == ytrain\n",
    "    train_error = 1 - (sum(train_correct) / len(train_correct))\n",
    "    knn_train_err.append(train_error)\n",
    "    #knn on validation data\n",
    "    valid_correct = knn_3(k, Xvalid,yvalid) == yvalid\n",
    "    valid_error = 1 - (sum(valid_correct) / len(valid_correct))\n",
    "    knn_valid_err.append(valid_error)"
   ]
  },
  {
   "cell_type": "code",
   "execution_count": 17,
   "metadata": {},
   "outputs": [],
   "source": [
    "# pd.DataFrame({'k': K, 'training error':knn_train_err, 'validation error': knn_valid_err})"
   ]
  },
  {
   "cell_type": "code",
   "execution_count": 18,
   "metadata": {},
   "outputs": [
    {
     "data": {
      "text/html": [
       "<div>\n",
       "<style scoped>\n",
       "    .dataframe tbody tr th:only-of-type {\n",
       "        vertical-align: middle;\n",
       "    }\n",
       "\n",
       "    .dataframe tbody tr th {\n",
       "        vertical-align: top;\n",
       "    }\n",
       "\n",
       "    .dataframe thead th {\n",
       "        text-align: right;\n",
       "    }\n",
       "</style>\n",
       "<table border=\"1\" class=\"dataframe\">\n",
       "  <thead>\n",
       "    <tr style=\"text-align: right;\">\n",
       "      <th></th>\n",
       "      <th>k</th>\n",
       "      <th>training error</th>\n",
       "      <th>validation error</th>\n",
       "    </tr>\n",
       "  </thead>\n",
       "  <tbody>\n",
       "    <tr>\n",
       "      <th>0</th>\n",
       "      <td>1</td>\n",
       "      <td>0.0000</td>\n",
       "      <td>0.320</td>\n",
       "    </tr>\n",
       "    <tr>\n",
       "      <th>1</th>\n",
       "      <td>5</td>\n",
       "      <td>0.1945</td>\n",
       "      <td>0.299</td>\n",
       "    </tr>\n",
       "    <tr>\n",
       "      <th>2</th>\n",
       "      <td>9</td>\n",
       "      <td>0.2305</td>\n",
       "      <td>0.302</td>\n",
       "    </tr>\n",
       "    <tr>\n",
       "      <th>3</th>\n",
       "      <td>15</td>\n",
       "      <td>0.2570</td>\n",
       "      <td>0.289</td>\n",
       "    </tr>\n",
       "  </tbody>\n",
       "</table>\n",
       "</div>"
      ],
      "text/plain": [
       "    k  training error  validation error\n",
       "0   1          0.0000             0.320\n",
       "1   5          0.1945             0.299\n",
       "2   9          0.2305             0.302\n",
       "3  15          0.2570             0.289"
      ]
     },
     "execution_count": 18,
     "metadata": {},
     "output_type": "execute_result"
    }
   ],
   "source": [
    "pd.DataFrame({'k': K, 'training error':knn_train_err, 'validation error': knn_valid_err})"
   ]
  },
  {
   "cell_type": "code",
   "execution_count": 19,
   "metadata": {},
   "outputs": [
    {
     "name": "stdout",
     "output_type": "stream",
     "text": [
      "k = 3 training error:  0.16049999999999998\n"
     ]
    }
   ],
   "source": [
    "train_correct = knn_3(3, Xtrain,ytrain) == ytrain\n",
    "k3_train_error = 1 - (sum(train_correct) / len(train_correct))\n",
    "print('k = 3 training error: ', k3_train_error)"
   ]
  },
  {
   "cell_type": "markdown",
   "metadata": {},
   "source": [
    "### k =15 gives the lowest validation error / (15NN) performs best on the validation data"
   ]
  },
  {
   "cell_type": "code",
   "execution_count": 20,
   "metadata": {},
   "outputs": [],
   "source": [
    "K = [15]\n",
    "knn_test_err = []\n",
    "for k in K:\n",
    "    #knn on test data\n",
    "    test_correct = knn_3(k, Xtest,ytest) == ytest\n",
    "    test_error = 1 - (sum(test_correct) / len(test_correct))\n",
    "    knn_test_err.append(test_error)\n",
    "    "
   ]
  },
  {
   "cell_type": "code",
   "execution_count": 21,
   "metadata": {},
   "outputs": [
    {
     "data": {
      "text/html": [
       "<div>\n",
       "<style scoped>\n",
       "    .dataframe tbody tr th:only-of-type {\n",
       "        vertical-align: middle;\n",
       "    }\n",
       "\n",
       "    .dataframe tbody tr th {\n",
       "        vertical-align: top;\n",
       "    }\n",
       "\n",
       "    .dataframe thead th {\n",
       "        text-align: right;\n",
       "    }\n",
       "</style>\n",
       "<table border=\"1\" class=\"dataframe\">\n",
       "  <thead>\n",
       "    <tr style=\"text-align: right;\">\n",
       "      <th></th>\n",
       "      <th>k</th>\n",
       "      <th>test error</th>\n",
       "    </tr>\n",
       "  </thead>\n",
       "  <tbody>\n",
       "    <tr>\n",
       "      <th>0</th>\n",
       "      <td>15</td>\n",
       "      <td>0.296</td>\n",
       "    </tr>\n",
       "  </tbody>\n",
       "</table>\n",
       "</div>"
      ],
      "text/plain": [
       "    k  test error\n",
       "0  15       0.296"
      ]
     },
     "execution_count": 21,
     "metadata": {},
     "output_type": "execute_result"
    }
   ],
   "source": [
    "pd.DataFrame({'k': K, 'test error':knn_test_err})"
   ]
  },
  {
   "cell_type": "markdown",
   "metadata": {},
   "source": [
    "### the classificaton accuracy suffers a bit from projection, however makes up for its performance in significant runtime reduction with the projected data"
   ]
  },
  {
   "cell_type": "code",
   "execution_count": null,
   "metadata": {},
   "outputs": [],
   "source": []
  }
 ],
 "metadata": {
  "kernelspec": {
   "display_name": "Python 3",
   "language": "python",
   "name": "python3"
  },
  "language_info": {
   "codemirror_mode": {
    "name": "ipython",
    "version": 3
   },
   "file_extension": ".py",
   "mimetype": "text/x-python",
   "name": "python",
   "nbconvert_exporter": "python",
   "pygments_lexer": "ipython3",
   "version": "3.8.2"
  }
 },
 "nbformat": 4,
 "nbformat_minor": 4
}
